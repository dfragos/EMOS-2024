{
 "cells": [
  {
   "cell_type": "markdown",
   "metadata": {
    "colab_type": "text",
    "id": "view-in-github"
   },
   "source": [
    "<a href=\"https://colab.research.google.com/github/dfragos/EMOS-2024/blob/main/EMOS_Python.ipynb\" target=\"_parent\"><img src=\"https://colab.research.google.com/assets/colab-badge.svg\" alt=\"Open In Colab\"/></a>"
   ]
  },
  {
   "cell_type": "code",
   "execution_count": null,
   "metadata": {
    "id": "NJ08e1y7AADF"
   },
   "outputs": [],
   "source": [
    "# Εγκατάσταση απαιτούμενων βιβλιοθηκών\n",
    "# pip install pandas pyarrow numpy pycountry\n",
    "\n",
    "import pandas as pd\n",
    "import numpy as np\n",
    "import pycountry"
   ]
  },
  {
   "cell_type": "code",
   "execution_count": null,
   "metadata": {},
   "outputs": [],
   "source": [
    "# Λήψη δεδομένων Eurostat (παράδειγμα dataset για ανεργία)\n",
    "url = \"https://ec.europa.eu/eurostat/api/dissemination/sdmx/2.1/data/une_rt_m$defaultview/?format=TSV\"\n",
    "unemployment_data = pd.read_csv(url, sep='\\t')\n",
    "\n",
    "# Προβολή δείγματος δεδομένων\n",
    "print(unemployment_data.head())"
   ]
  },
  {
   "cell_type": "code",
   "execution_count": null,
   "metadata": {},
   "outputs": [],
   "source": [
    "# Επισκόπηση ελλείπουσων τιμών\n",
    "missing_summary = unemployment_data.isnull().sum()\n",
    "print(missing_summary)\n",
    "\n",
    "# Διαγραφή γραμμών με πολλές ελλείπουσες τιμές\n",
    "unemployment_data.dropna(inplace=True)\n",
    "\n",
    "# Συμπλήρωση ελλείπουσων τιμών με μέθοδο παρεμβολής\n",
    "unemployment_data.interpolate(method='linear', inplace=True)"
   ]
  },
  {
   "cell_type": "code",
   "execution_count": null,
   "metadata": {},
   "outputs": [],
   "source": [
    "# Καθορισμός ορίων για ακραίες τιμές (π.χ., 1.5 IQR)\n",
    "q1 = unemployment_data['values'].quantile(0.25)\n",
    "q3 = unemployment_data['values'].quantile(0.75)\n",
    "iqr = q3 - q1\n",
    "lower_bound = q1 - 1.5 * iqr\n",
    "upper_bound = q3 + 1.5 * iqr\n",
    "\n",
    "# Αντικατάσταση ακραίων τιμών με NaN\n",
    "unemployment_data['values'] = unemployment_data['values'].apply(\n",
    "    lambda x: np.nan if x < lower_bound or x > upper_bound else x\n",
    ")"
   ]
  },
  {
   "cell_type": "code",
   "execution_count": null,
   "metadata": {},
   "outputs": [],
   "source": [
    "# Τυποποίηση κατηγορικών τιμών (π.χ., geo, sex, age)\n",
    "unemployment_data['geo'] = unemployment_data['geo'].str.upper().str.strip()\n",
    "unemployment_data['sex'] = unemployment_data['sex'].str.capitalize().str.strip()\n",
    "unemployment_data['age'] = unemployment_data['age'].str.replace(\" \", \"_\")"
   ]
  },
  {
   "cell_type": "code",
   "execution_count": null,
   "metadata": {},
   "outputs": [],
   "source": [
    "# Εντοπισμός και αφαίρεση διπλών εγγραφών\n",
    "unemployment_data.drop_duplicates(inplace=True)"
   ]
  },
  {
   "cell_type": "code",
   "execution_count": null,
   "metadata": {},
   "outputs": [],
   "source": [
    "# Συμπλήρωση ελλειπουσών τιμών με μέσο όρο ανά κατηγορία\n",
    "unemployment_data['values'] = unemployment_data.groupby(['geo', 'sex', 'age'])['values'].transform(\n",
    "    lambda x: x.fillna(x.mean())\n",
    ")"
   ]
  },
  {
   "cell_type": "code",
   "execution_count": null,
   "metadata": {},
   "outputs": [],
   "source": [
    "# Καθαρισμός ανεπιθύμητων χαρακτήρων στις στήλες\n",
    "unemployment_data['geo'] = unemployment_data['geo'].str.strip()\n",
    "unemployment_data['sex'] = unemployment_data['sex'].str.strip()\n",
    "unemployment_data['age'] = unemployment_data['age'].str.strip()"
   ]
  },
  {
   "cell_type": "code",
   "execution_count": null,
   "metadata": {},
   "outputs": [],
   "source": [
    "# Αφαίρεση αρνητικών και μη λογικών τιμών\n",
    "unemployment_data = unemployment_data[unemployment_data['values'] >= 0]"
   ]
  },
  {
   "cell_type": "code",
   "execution_count": null,
   "metadata": {},
   "outputs": [],
   "source": [
    "# Μετατροπή τιμών σε σωστές μορφές\n",
    "unemployment_data['values'] = pd.to_numeric(unemployment_data['values'], errors='coerce')\n",
    "unemployment_data['time'] = pd.to_datetime(unemployment_data['time'])"
   ]
  },
  {
   "cell_type": "code",
   "execution_count": null,
   "metadata": {},
   "outputs": [],
   "source": [
    "# Φιλτράρισμα δεδομένων με βάση λογικά όρια (0-100 για ποσοστά)\n",
    "unemployment_data = unemployment_data[(unemployment_data['values'] >= 0) & (unemployment_data['values'] <= 100)]"
   ]
  },
  {
   "cell_type": "code",
   "execution_count": null,
   "metadata": {},
   "outputs": [],
   "source": [
    "# Αποθήκευση των καθαρισμένων δεδομένων σε αρχείο CSV\n",
    "unemployment_data.to_csv(\"cleaned_unemployment_data.csv\", index=False)\n",
    "\n",
    "# Έλεγχος αποθήκευσης\n",
    "loaded_csv_data = pd.read_csv(\"cleaned_unemployment_data.csv\")\n",
    "print(loaded_csv_data.head())\n",
    "\n",
    "# Αποθήκευση σε αρχείο Parquet\n",
    "unemployment_data.to_parquet(\"cleaned_unemployment_data.parquet\", index=False)\n",
    "\n",
    "# Έλεγχος αποθήκευσης\n",
    "loaded_data = pd.read_parquet(\"cleaned_unemployment_data.parquet\")\n",
    "print(loaded_data.head())\n"
   ]
  }
 ],
 "metadata": {
  "colab": {
   "authorship_tag": "ABX9TyN5PZRsiTdnmWasUC5nLb+d",
   "include_colab_link": true,
   "provenance": []
  },
  "kernelspec": {
   "display_name": "Python 3",
   "name": "python3"
  },
  "language_info": {
   "name": "python"
  }
 },
 "nbformat": 4,
 "nbformat_minor": 0
}
