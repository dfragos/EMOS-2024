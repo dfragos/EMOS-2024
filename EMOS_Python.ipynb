{
  "cells": [
    {
      "cell_type": "markdown",
      "metadata": {
        "id": "view-in-github",
        "colab_type": "text"
      },
      "source": [
        "<a href=\"https://colab.research.google.com/github/dfragos/EMOS-2024/blob/main/EMOS_Python.ipynb\" target=\"_parent\"><img src=\"https://colab.research.google.com/assets/colab-badge.svg\" alt=\"Open In Colab\"/></a>"
      ]
    },
    {
      "cell_type": "code",
      "execution_count": 2,
      "metadata": {
        "id": "NJ08e1y7AADF"
      },
      "outputs": [],
      "source": [
        "# Εγκατάσταση απαιτούμενων βιβλιοθηκών\n",
        "# pip install pandas pyarrow numpy pycountry\n",
        "\n",
        "import pandas as pd\n",
        "import numpy as np\n",
        "#import pycountry"
      ]
    },
    {
      "cell_type": "code",
      "execution_count": 86,
      "metadata": {
        "id": "1e7C65013ap_",
        "outputId": "d87b2006-414c-4b06-c499-5d5db90de577",
        "colab": {
          "base_uri": "https://localhost:8080/"
        }
      },
      "outputs": [
        {
          "output_type": "stream",
          "name": "stderr",
          "text": [
            "<ipython-input-86-e8753735c16d>:6: ParserWarning: Falling back to the 'python' engine because the 'c' engine does not support regex separators (separators > 1 char and different from '\\s+' are interpreted as regex); you can avoid this warning by specifying engine='python'.\n",
            "  unemployment_data = pd.read_csv(url, sep=r'[,\\t\\\\]')\n"
          ]
        },
        {
          "output_type": "stream",
          "name": "stdout",
          "text": [
            "  freq s_adj    age    unit sex   geo  TIME_PERIOD  2024-02   2024-03   \\\n",
            "0    M   NSA  TOTAL  PC_ACT   T    AT          5.5       5.4       4.9   \n",
            "1    M   NSA  TOTAL  PC_ACT   T    BA         13.1      13.0      12.6   \n",
            "2    M   NSA  TOTAL  PC_ACT   T    BE          5.7       5.6       5.4   \n",
            "3    M   NSA  TOTAL  PC_ACT   T    BG          5.1       5.0       4.7   \n",
            "4    M   NSA  TOTAL  PC_ACT   T    CH          4.3       4.2       4.0   \n",
            "5    M   NSA  TOTAL  PC_ACT   T    CY          5.8       5.5       4.7   \n",
            "6    M   NSA  TOTAL  PC_ACT   T    CZ          2.7       3.1       2.7   \n",
            "7    M   NSA  TOTAL  PC_ACT   T    DE          3.6       3.5       3.2   \n",
            "8    M   NSA  TOTAL  PC_ACT   T    DK          6.2       5.6       5.8   \n",
            "9    M   NSA  TOTAL  PC_ACT   T  EA20          6.9       6.7       6.3   \n",
            "\n",
            "   2024-04   2024-05   2024-06   2024-07   2024-08  2024-09  2024-10   2024-11  \n",
            "0       5.1       4.8       4.7       5.3       5.4     5.1         :      NaN  \n",
            "1      12.4      12.5      12.5      12.5      12.3       :         :      NaN  \n",
            "2       5.3       5.3       5.8       6.0       6.0     5.9         :      NaN  \n",
            "3       4.2       3.9       3.7       3.6       3.5     3.6         :      NaN  \n",
            "4       3.9       4.0       4.5       4.8       4.9       :         :      NaN  \n",
            "5       4.2       5.1       5.1       4.8       3.5     3.3         :      NaN  \n",
            "6       2.6       2.8       2.7       2.6       3.0     2.6         :      NaN  \n",
            "7       3.5       3.4       3.6       3.8       3.2     3.3         :      NaN  \n",
            "8       5.8       5.7       6.1       6.5       6.8     5.8         :      NaN  \n",
            "9       6.3       6.2       6.2       6.3       6.2     6.2         :      NaN  \n",
            "<class 'pandas.core.frame.DataFrame'>\n",
            "RangeIndex: 144 entries, 0 to 143\n",
            "Data columns (total 17 columns):\n",
            " #   Column       Non-Null Count  Dtype  \n",
            "---  ------       --------------  -----  \n",
            " 0   freq         144 non-null    object \n",
            " 1   s_adj        144 non-null    object \n",
            " 2   age          144 non-null    object \n",
            " 3   unit         144 non-null    object \n",
            " 4   sex          144 non-null    object \n",
            " 5   geo          144 non-null    object \n",
            " 6   TIME_PERIOD  144 non-null    float64\n",
            " 7   2024-02      144 non-null    float64\n",
            " 8   2024-03      144 non-null    float64\n",
            " 9   2024-04      144 non-null    float64\n",
            " 10  2024-05      144 non-null    float64\n",
            " 11  2024-06      144 non-null    float64\n",
            " 12  2024-07      144 non-null    float64\n",
            " 13  2024-08      144 non-null    float64\n",
            " 14  2024-09      144 non-null    object \n",
            " 15  2024-10      144 non-null    object \n",
            " 16  2024-11      0 non-null      float64\n",
            "dtypes: float64(9), object(8)\n",
            "memory usage: 19.2+ KB\n"
          ]
        }
      ],
      "source": [
        "# Λήψη δεδομένων Eurostat (παράδειγμα dataset για ανεργία)\n",
        "url = \"https://ec.europa.eu/eurostat/api/dissemination/sdmx/2.1/data/une_rt_m$defaultview/?format=TSV\"\n",
        "\n",
        "#Προσοχή στoν seperator(μπορεί να χρειάζονται περισσοτεροι από έναν)\n",
        "#Στην περιπτωση μας /t , /\n",
        "unemployment_data = pd.read_csv(url, sep=r'[,\\t\\\\]')\n",
        "\n",
        "# Προβολή δείγματος δεδομένων\n",
        "print(unemployment_data.head(10))\n",
        "unemployment_data.info()"
      ]
    },
    {
      "cell_type": "code",
      "source": [
        "# Επισκόπηση ελλείπουσων τιμών\n",
        "missing_summary = unemployment_data.isnull().sum()\n",
        "print(f\"Missing Summary for rows:\\n{missing_summary}\")\n",
        "\n",
        "# Διαγραφή γραμμών με πολλές ελλείπουσες τιμές\n",
        "unemployment_data.dropna(how= \"all\",inplace=True)\n",
        "\n",
        "\n",
        "# Συμπλήρωση ελλείπουσων τιμών με μέθοδο παρεμβολής\n",
        "unemployment_data.interpolate(method='linear', inplace=True)\n",
        "\n",
        "print( unemployment_data.head())"
      ],
      "metadata": {
        "id": "nxukDXQVFxpB",
        "outputId": "ff89a723-1b24-4801-e67d-ac7901b4f88e",
        "colab": {
          "base_uri": "https://localhost:8080/"
        }
      },
      "execution_count": 87,
      "outputs": [
        {
          "output_type": "stream",
          "name": "stdout",
          "text": [
            "Missing Summary for rows:\n",
            "freq             0\n",
            "s_adj            0\n",
            "age              0\n",
            "unit             0\n",
            "sex              0\n",
            "geo              0\n",
            "TIME_PERIOD      0\n",
            "2024-02          0\n",
            "2024-03          0\n",
            "2024-04          0\n",
            "2024-05          0\n",
            "2024-06          0\n",
            "2024-07          0\n",
            "2024-08          0\n",
            "2024-09          0\n",
            "2024-10          0\n",
            "2024-11        144\n",
            "dtype: int64\n",
            "  freq s_adj    age    unit sex geo  TIME_PERIOD  2024-02   2024-03   \\\n",
            "0    M   NSA  TOTAL  PC_ACT   T  AT          5.5       5.4       4.9   \n",
            "1    M   NSA  TOTAL  PC_ACT   T  BA         13.1      13.0      12.6   \n",
            "2    M   NSA  TOTAL  PC_ACT   T  BE          5.7       5.6       5.4   \n",
            "3    M   NSA  TOTAL  PC_ACT   T  BG          5.1       5.0       4.7   \n",
            "4    M   NSA  TOTAL  PC_ACT   T  CH          4.3       4.2       4.0   \n",
            "\n",
            "   2024-04   2024-05   2024-06   2024-07   2024-08  2024-09  2024-10   2024-11  \n",
            "0       5.1       4.8       4.7       5.3       5.4     5.1         :      NaN  \n",
            "1      12.4      12.5      12.5      12.5      12.3       :         :      NaN  \n",
            "2       5.3       5.3       5.8       6.0       6.0     5.9         :      NaN  \n",
            "3       4.2       3.9       3.7       3.6       3.5     3.6         :      NaN  \n",
            "4       3.9       4.0       4.5       4.8       4.9       :         :      NaN  \n"
          ]
        },
        {
          "output_type": "stream",
          "name": "stderr",
          "text": [
            "<ipython-input-87-8cde12e148b1>:10: FutureWarning: DataFrame.interpolate with object dtype is deprecated and will raise in a future version. Call obj.infer_objects(copy=False) before interpolating instead.\n",
            "  unemployment_data.interpolate(method='linear', inplace=True)\n"
          ]
        }
      ]
    },
    {
      "cell_type": "code",
      "source": [
        "# Loop για όλες τις στηλες μετρώ τους χαρακτήρες ':' (Μετατρέπω ολες τις τιμες σε strings για τον ελεγχο)\n",
        "\n",
        "for column in unemployment_data.columns:\n",
        "    count_colon = unemployment_data[column].astype(str).str.contains(':', na=False).sum()\n",
        "    print(f\"Rows with ':' in '{column}': {count_colon}\")\n"
      ],
      "metadata": {
        "id": "EcHSy2_CLetO",
        "outputId": "10ca84bc-1400-4504-dfca-7fe3a17c5463",
        "colab": {
          "base_uri": "https://localhost:8080/"
        }
      },
      "execution_count": 88,
      "outputs": [
        {
          "output_type": "stream",
          "name": "stdout",
          "text": [
            "Rows with ':' in 'freq': 0\n",
            "Rows with ':' in 's_adj': 0\n",
            "Rows with ':' in 'age': 0\n",
            "Rows with ':' in 'unit': 0\n",
            "Rows with ':' in 'sex': 0\n",
            "Rows with ':' in 'geo': 0\n",
            "Rows with ':' in 'TIME_PERIOD': 0\n",
            "Rows with ':' in '2024-02 ': 0\n",
            "Rows with ':' in '2024-03 ': 0\n",
            "Rows with ':' in '2024-04 ': 0\n",
            "Rows with ':' in '2024-05 ': 0\n",
            "Rows with ':' in '2024-06 ': 0\n",
            "Rows with ':' in '2024-07 ': 0\n",
            "Rows with ':' in '2024-08 ': 0\n",
            "Rows with ':' in '2024-09 ': 16\n",
            "Rows with ':' in '2024-10 ': 132\n",
            "Rows with ':' in '2024-11': 0\n"
          ]
        }
      ]
    },
    {
      "cell_type": "code",
      "execution_count": 89,
      "metadata": {
        "id": "eqepQPkW3aqA"
      },
      "outputs": [],
      "source": [
        "#(διαγραφή στήλης 2024-11 και 2024-10 λογω ΝΑΝ και :)\n",
        "unemployment_data.drop(columns=['2024-11','2024-10 '], inplace=True)\n"
      ]
    },
    {
      "cell_type": "code",
      "source": [
        "# Loop through each column\n",
        "for column in unemployment_data.columns:\n",
        "    # Αντικατάσταση':' με NaN\n",
        "    unemployment_data[column] = unemployment_data[column].replace(':', float('nan'))\n",
        "\n",
        "# Perform interpolation on the entire DataFrame\n",
        "unemployment_data.interpolate(method='linear', inplace=True)\n",
        "\n",
        "# ακομα εχω ':'. ########################\n",
        "print(unemployment_data.head())\n"
      ],
      "metadata": {
        "id": "kVoj6_kKNm9R",
        "outputId": "501ff2eb-55ff-45b3-e2a7-3ca697a1a6f1",
        "colab": {
          "base_uri": "https://localhost:8080/"
        }
      },
      "execution_count": 105,
      "outputs": [
        {
          "output_type": "stream",
          "name": "stdout",
          "text": [
            "  freq s_adj    age    unit sex geo  TIME_PERIOD  2024-02   2024-03   \\\n",
            "0    M   NSA  TOTAL  PC_ACT   T  AT          5.5       5.4       4.9   \n",
            "1    M   NSA  TOTAL  PC_ACT   T  BA         13.1      13.0      12.6   \n",
            "2    M   NSA  TOTAL  PC_ACT   T  BE          5.7       5.6       5.4   \n",
            "3    M   NSA  TOTAL  PC_ACT   T  BG          5.1       5.0       4.7   \n",
            "4    M   NSA  TOTAL  PC_ACT   T  CH          4.3       4.2       4.0   \n",
            "\n",
            "   2024-04   2024-05   2024-06   2024-07   2024-08  2024-09   \n",
            "0       5.1       4.8       4.7       5.3       5.4     5.1   \n",
            "1      12.4      12.5      12.5      12.5      12.3       :   \n",
            "2       5.3       5.3       5.8       6.0       6.0     5.9   \n",
            "3       4.2       3.9       3.7       3.6       3.5     3.6   \n",
            "4       3.9       4.0       4.5       4.8       4.9       :   \n"
          ]
        },
        {
          "output_type": "stream",
          "name": "stderr",
          "text": [
            "<ipython-input-105-174e0dbfb23d>:7: FutureWarning: DataFrame.interpolate with object dtype is deprecated and will raise in a future version. Call obj.infer_objects(copy=False) before interpolating instead.\n",
            "  unemployment_data.interpolate(method='linear', inplace=True)\n"
          ]
        }
      ]
    },
    {
      "cell_type": "code",
      "source": [
        "# Check the data types of the columns\n",
        "print(unemployment_data.dtypes)\n"
      ],
      "metadata": {
        "id": "QqzqhAn9Oed3",
        "outputId": "a79e049d-a1f9-4d81-c994-943a19ae274d",
        "colab": {
          "base_uri": "https://localhost:8080/"
        }
      },
      "execution_count": 92,
      "outputs": [
        {
          "output_type": "stream",
          "name": "stdout",
          "text": [
            "freq            object\n",
            "s_adj           object\n",
            "age             object\n",
            "unit            object\n",
            "sex             object\n",
            "geo             object\n",
            "TIME_PERIOD    float64\n",
            "2024-02        float64\n",
            "2024-03        float64\n",
            "2024-04        float64\n",
            "2024-05        float64\n",
            "2024-06        float64\n",
            "2024-07        float64\n",
            "2024-08        float64\n",
            "2024-09         object\n",
            "dtype: object\n"
          ]
        }
      ]
    },
    {
      "cell_type": "code",
      "source": [
        "#Checking again the columns only\n",
        "print(unemployment_data.columns)\n",
        "\n",
        "#Παρατηρώ πως ο καθορισμός χρειάζεται να γίνει σε στήλες που υπάρχουν και\n",
        "# να είναι αριθμητικές\n",
        "#Μαζέυω όλες τις στήλες που περιέχουν αριθμό(δηλαδή τους μήνες)\n",
        "numeric_columns = unemployment_data.select_dtypes(include='number').drop(columns=['TIME_PERIOD'], errors='ignore')\n",
        "\n",
        "# Inspect the resulting DataFrame\n",
        "print(numeric_columns.head())\n",
        "print( unemployment_data.head())"
      ],
      "metadata": {
        "id": "mqTWZiKr8qtz",
        "outputId": "4871a569-a44d-4bd4-8108-15634340d350",
        "colab": {
          "base_uri": "https://localhost:8080/"
        }
      },
      "execution_count": 127,
      "outputs": [
        {
          "output_type": "stream",
          "name": "stdout",
          "text": [
            "Index(['freq', 's_adj', 'age', 'unit', 'sex', 'geo', 'TIME_PERIOD', '2024-02 ',\n",
            "       '2024-03 ', '2024-04 ', '2024-05 ', '2024-06 ', '2024-07 ', '2024-08 ',\n",
            "       '2024-09 '],\n",
            "      dtype='object')\n",
            "   2024-02   2024-03   2024-04   2024-05   2024-06   2024-07   2024-08 \n",
            "0       5.4       4.9       5.1       4.8       4.7       5.3       5.4\n",
            "1      13.0      12.6      12.4      12.5      12.5      12.5      12.3\n",
            "2       5.6       5.4       5.3       5.3       5.8       6.0       6.0\n",
            "3       5.0       4.7       4.2       3.9       3.7       3.6       3.5\n",
            "4       4.2       4.0       3.9       4.0       4.5       4.8       4.9\n",
            "  freq s_adj  age unit  sex  geo  TIME_PERIOD  2024-02   2024-03   2024-04   \\\n",
            "0  NaN   NaN  NaN  NaN  NaN  NaN          5.5       5.4       4.9       5.1   \n",
            "1  NaN   NaN  NaN  NaN  NaN  NaN         13.1      13.0      12.6      12.4   \n",
            "2  NaN   NaN  NaN  NaN  NaN  NaN          5.7       5.6       5.4       5.3   \n",
            "3  NaN   NaN  NaN  NaN  NaN  NaN          5.1       5.0       4.7       4.2   \n",
            "4  NaN   NaN  NaN  NaN  NaN  NaN          4.3       4.2       4.0       3.9   \n",
            "\n",
            "   2024-05   2024-06   2024-07   2024-08  2024-09   \n",
            "0       4.8       4.7       5.3       5.4      NaN  \n",
            "1      12.5      12.5      12.5      12.3      NaN  \n",
            "2       5.3       5.8       6.0       6.0      NaN  \n",
            "3       3.9       3.7       3.6       3.5      NaN  \n",
            "4       4.0       4.5       4.8       4.9      NaN  \n"
          ]
        }
      ]
    },
    {
      "cell_type": "code",
      "source": [
        "# Καθορισμός ορίων για ακραίες τιμές (π.χ., 1.5 IQR)\n",
        "numeric_columns = unemployment_data.select_dtypes(include='number').columns\n",
        "q1 = unemployment_data[numeric_columns].quantile(0.25)\n",
        "q3 = unemployment_data[numeric_columns].quantile(0.75)\n",
        "iqr = q3 - q1\n",
        "lower_bound = q1 - 1.5 * iqr\n",
        "upper_bound = q3 + 1.5 * iqr\n",
        "\n",
        "# Αντικατάσταση ακραίων τιμών με NaN\n",
        "for col in numeric_columns:\n",
        "    unemployment_data[col] = unemployment_data[col].apply(\n",
        "        lambda x: np.nan if x < lower_bound[col] or x > upper_bound[col] else x\n",
        "    )\n",
        ""
      ],
      "metadata": {
        "id": "JuLxtkXu-BJP"
      },
      "execution_count": 110,
      "outputs": []
    },
    {
      "cell_type": "code",
      "source": [
        "print(unemployment_data.head())\n",
        "# Αντικατάσταση ακραίων τιμών με NaN\n",
        "#unemployment_data[unemployment_data.columns] = unemployment_data[unemployment_data.columns].apply(\n",
        "#    lambda x: np.nan if x < lower_bound or x > upper_bound else x\n",
        "#)\n",
        "unemployment_data.columns"
      ],
      "metadata": {
        "id": "YfC4XPtW-iN7",
        "outputId": "ab2b7b71-f514-43a8-f5f3-04d00ab59de2",
        "colab": {
          "base_uri": "https://localhost:8080/"
        }
      },
      "execution_count": 111,
      "outputs": [
        {
          "output_type": "stream",
          "name": "stdout",
          "text": [
            "  freq s_adj    age    unit sex geo  TIME_PERIOD  2024-02   2024-03   \\\n",
            "0    M   NSA  TOTAL  PC_ACT   T  AT          5.5       5.4       4.9   \n",
            "1    M   NSA  TOTAL  PC_ACT   T  BA         13.1      13.0      12.6   \n",
            "2    M   NSA  TOTAL  PC_ACT   T  BE          5.7       5.6       5.4   \n",
            "3    M   NSA  TOTAL  PC_ACT   T  BG          5.1       5.0       4.7   \n",
            "4    M   NSA  TOTAL  PC_ACT   T  CH          4.3       4.2       4.0   \n",
            "\n",
            "   2024-04   2024-05   2024-06   2024-07   2024-08  2024-09   \n",
            "0       5.1       4.8       4.7       5.3       5.4     5.1   \n",
            "1      12.4      12.5      12.5      12.5      12.3       :   \n",
            "2       5.3       5.3       5.8       6.0       6.0     5.9   \n",
            "3       4.2       3.9       3.7       3.6       3.5     3.6   \n",
            "4       3.9       4.0       4.5       4.8       4.9       :   \n"
          ]
        },
        {
          "output_type": "execute_result",
          "data": {
            "text/plain": [
              "Index(['freq', 's_adj', 'age', 'unit', 'sex', 'geo', 'TIME_PERIOD', '2024-02 ',\n",
              "       '2024-03 ', '2024-04 ', '2024-05 ', '2024-06 ', '2024-07 ', '2024-08 ',\n",
              "       '2024-09 '],\n",
              "      dtype='object')"
            ]
          },
          "metadata": {},
          "execution_count": 111
        }
      ]
    },
    {
      "cell_type": "code",
      "execution_count": 112,
      "metadata": {
        "id": "ee7x7lyx3aqB"
      },
      "outputs": [],
      "source": [
        "# Τυποποίηση κατηγορικών τιμών (π.χ., geo, sex, age)\n",
        "unemployment_data['geo'] = unemployment_data['geo'].str.upper().str.strip()\n",
        "unemployment_data['sex'] = unemployment_data['sex'].str.capitalize().str.strip()\n",
        "unemployment_data['age'] = unemployment_data['age'].str.replace(\" \", \"_\")"
      ]
    },
    {
      "cell_type": "code",
      "execution_count": 113,
      "metadata": {
        "id": "Mrcx13uu3aqC"
      },
      "outputs": [],
      "source": [
        "# Εντοπισμός και αφαίρεση διπλών εγγραφών\n",
        "unemployment_data.drop_duplicates(inplace=True)"
      ]
    },
    {
      "cell_type": "code",
      "execution_count": 117,
      "metadata": {
        "id": "95Bm-9hy3aqC"
      },
      "outputs": [],
      "source": [
        "# Συμπλήρωση ελλειπουσών τιμών με μέσο όρο ανά κατηγορία\n",
        "unemployment_data[numeric_columns] = unemployment_data.groupby(['geo', 'sex', 'age'])[numeric_columns].transform(\n",
        "    lambda x: x.fillna(x.mean())\n",
        ")"
      ]
    },
    {
      "cell_type": "code",
      "execution_count": 115,
      "metadata": {
        "id": "ViZ1KQ8d3aqD"
      },
      "outputs": [],
      "source": [
        "# Καθαρισμός ανεπιθύμητων χαρακτήρων στις στήλες\n",
        "unemployment_data['geo'] = unemployment_data['geo'].str.strip()\n",
        "unemployment_data['sex'] = unemployment_data['sex'].str.strip()\n",
        "unemployment_data['age'] = unemployment_data['age'].str.strip()"
      ]
    },
    {
      "cell_type": "code",
      "execution_count": 118,
      "metadata": {
        "id": "eha4AiUb3aqD"
      },
      "outputs": [],
      "source": [
        "# Αφαίρεση αρνητικών και μη λογικών τιμών\n",
        "unemployment_data = unemployment_data[unemployment_data[numeric_columns] >= 0]"
      ]
    },
    {
      "cell_type": "code",
      "execution_count": 121,
      "metadata": {
        "id": "CL8L-N4V3aqE",
        "outputId": "08f0847b-e9ed-4bdd-d2d5-975a33501d78",
        "colab": {
          "base_uri": "https://localhost:8080/",
          "height": 297
        }
      },
      "outputs": [
        {
          "output_type": "error",
          "ename": "TypeError",
          "evalue": "arg must be a list, tuple, 1-d array, or Series",
          "traceback": [
            "\u001b[0;31m---------------------------------------------------------------------------\u001b[0m",
            "\u001b[0;31mTypeError\u001b[0m                                 Traceback (most recent call last)",
            "\u001b[0;32m<ipython-input-121-047ea8a69f42>\u001b[0m in \u001b[0;36m<cell line: 2>\u001b[0;34m()\u001b[0m\n\u001b[1;32m      1\u001b[0m \u001b[0;31m# Μετατροπή τιμών σε σωστές μορφές\u001b[0m\u001b[0;34m\u001b[0m\u001b[0;34m\u001b[0m\u001b[0m\n\u001b[0;32m----> 2\u001b[0;31m \u001b[0munemployment_data\u001b[0m\u001b[0;34m[\u001b[0m\u001b[0mnumeric_columns\u001b[0m\u001b[0;34m]\u001b[0m \u001b[0;34m=\u001b[0m \u001b[0mpd\u001b[0m\u001b[0;34m.\u001b[0m\u001b[0mto_numeric\u001b[0m\u001b[0;34m(\u001b[0m\u001b[0munemployment_data\u001b[0m\u001b[0;34m[\u001b[0m\u001b[0mnumeric_columns\u001b[0m\u001b[0;34m]\u001b[0m\u001b[0;34m,\u001b[0m \u001b[0merrors\u001b[0m\u001b[0;34m=\u001b[0m\u001b[0;34m'coerce'\u001b[0m\u001b[0;34m)\u001b[0m\u001b[0;34m\u001b[0m\u001b[0;34m\u001b[0m\u001b[0m\n\u001b[0m\u001b[1;32m      3\u001b[0m \u001b[0;31m#unemployment_data['TIME_PERIOD'] = pd.to_datetime(unemployment_data['TIME_PERIOD'])\u001b[0m\u001b[0;34m\u001b[0m\u001b[0;34m\u001b[0m\u001b[0m\n",
            "\u001b[0;32m/usr/local/lib/python3.10/dist-packages/pandas/core/tools/numeric.py\u001b[0m in \u001b[0;36mto_numeric\u001b[0;34m(arg, errors, downcast, dtype_backend)\u001b[0m\n\u001b[1;32m    204\u001b[0m         \u001b[0mvalues\u001b[0m \u001b[0;34m=\u001b[0m \u001b[0mnp\u001b[0m\u001b[0;34m.\u001b[0m\u001b[0marray\u001b[0m\u001b[0;34m(\u001b[0m\u001b[0;34m[\u001b[0m\u001b[0marg\u001b[0m\u001b[0;34m]\u001b[0m\u001b[0;34m,\u001b[0m \u001b[0mdtype\u001b[0m\u001b[0;34m=\u001b[0m\u001b[0;34m\"O\"\u001b[0m\u001b[0;34m)\u001b[0m\u001b[0;34m\u001b[0m\u001b[0;34m\u001b[0m\u001b[0m\n\u001b[1;32m    205\u001b[0m     \u001b[0;32melif\u001b[0m \u001b[0mgetattr\u001b[0m\u001b[0;34m(\u001b[0m\u001b[0marg\u001b[0m\u001b[0;34m,\u001b[0m \u001b[0;34m\"ndim\"\u001b[0m\u001b[0;34m,\u001b[0m \u001b[0;36m1\u001b[0m\u001b[0;34m)\u001b[0m \u001b[0;34m>\u001b[0m \u001b[0;36m1\u001b[0m\u001b[0;34m:\u001b[0m\u001b[0;34m\u001b[0m\u001b[0;34m\u001b[0m\u001b[0m\n\u001b[0;32m--> 206\u001b[0;31m         \u001b[0;32mraise\u001b[0m \u001b[0mTypeError\u001b[0m\u001b[0;34m(\u001b[0m\u001b[0;34m\"arg must be a list, tuple, 1-d array, or Series\"\u001b[0m\u001b[0;34m)\u001b[0m\u001b[0;34m\u001b[0m\u001b[0;34m\u001b[0m\u001b[0m\n\u001b[0m\u001b[1;32m    207\u001b[0m     \u001b[0;32melse\u001b[0m\u001b[0;34m:\u001b[0m\u001b[0;34m\u001b[0m\u001b[0;34m\u001b[0m\u001b[0m\n\u001b[1;32m    208\u001b[0m         \u001b[0mvalues\u001b[0m \u001b[0;34m=\u001b[0m \u001b[0marg\u001b[0m\u001b[0;34m\u001b[0m\u001b[0;34m\u001b[0m\u001b[0m\n",
            "\u001b[0;31mTypeError\u001b[0m: arg must be a list, tuple, 1-d array, or Series"
          ]
        }
      ],
      "source": [
        "# Μετατροπή τιμών σε σωστές μορφές\n",
        "#unemployment_data[numeric_columns] = pd.to_numeric(unemployment_data[numeric_columns], errors='coerce')\n",
        "#unemployment_data['TIME_PERIOD'] = pd.to_datetime(unemployment_data['TIME_PERIOD'])"
      ]
    },
    {
      "cell_type": "code",
      "execution_count": 123,
      "metadata": {
        "id": "DpuUCWoU3aqE"
      },
      "outputs": [],
      "source": [
        "# Φιλτράρισμα δεδομένων με βάση λογικά όρια (0-100 για ποσοστά)\n",
        "unemployment_data = unemployment_data[(unemployment_data[numeric_columns] >= 0) & (unemployment_data[numeric_columns] <= 100)]"
      ]
    },
    {
      "cell_type": "code",
      "execution_count": 125,
      "metadata": {
        "id": "jEsmD9l73aqF",
        "outputId": "71318ec8-fc2e-494a-9245-ba7170acaa70",
        "colab": {
          "base_uri": "https://localhost:8080/"
        }
      },
      "outputs": [
        {
          "output_type": "stream",
          "name": "stdout",
          "text": [
            "   freq  s_adj  age  unit  sex  geo  TIME_PERIOD  2024-02   2024-03   \\\n",
            "0   NaN    NaN  NaN   NaN  NaN  NaN          5.5       5.4       4.9   \n",
            "1   NaN    NaN  NaN   NaN  NaN  NaN         13.1      13.0      12.6   \n",
            "2   NaN    NaN  NaN   NaN  NaN  NaN          5.7       5.6       5.4   \n",
            "3   NaN    NaN  NaN   NaN  NaN  NaN          5.1       5.0       4.7   \n",
            "4   NaN    NaN  NaN   NaN  NaN  NaN          4.3       4.2       4.0   \n",
            "\n",
            "   2024-04   2024-05   2024-06   2024-07   2024-08   2024-09   \n",
            "0       5.1       4.8       4.7       5.3       5.4       NaN  \n",
            "1      12.4      12.5      12.5      12.5      12.3       NaN  \n",
            "2       5.3       5.3       5.8       6.0       6.0       NaN  \n",
            "3       4.2       3.9       3.7       3.6       3.5       NaN  \n",
            "4       3.9       4.0       4.5       4.8       4.9       NaN  \n",
            "   freq s_adj   age  unit   sex   geo  TIME_PERIOD  2024-02   2024-03   \\\n",
            "0  None  None  None  None  None  None          5.5       5.4       4.9   \n",
            "1  None  None  None  None  None  None         13.1      13.0      12.6   \n",
            "2  None  None  None  None  None  None          5.7       5.6       5.4   \n",
            "3  None  None  None  None  None  None          5.1       5.0       4.7   \n",
            "4  None  None  None  None  None  None          4.3       4.2       4.0   \n",
            "\n",
            "   2024-04   2024-05   2024-06   2024-07   2024-08  2024-09   \n",
            "0       5.1       4.8       4.7       5.3       5.4     None  \n",
            "1      12.4      12.5      12.5      12.5      12.3     None  \n",
            "2       5.3       5.3       5.8       6.0       6.0     None  \n",
            "3       4.2       3.9       3.7       3.6       3.5     None  \n",
            "4       3.9       4.0       4.5       4.8       4.9     None  \n"
          ]
        }
      ],
      "source": [
        "# Αποθήκευση των καθαρισμένων δεδομένων σε αρχείο CSV\n",
        "unemployment_data.to_csv(\"cleaned_unemployment_data.csv\", index=False)\n",
        "\n",
        "# Έλεγχος αποθήκευσης\n",
        "loaded_csv_data = pd.read_csv(\"cleaned_unemployment_data.csv\")\n",
        "print(loaded_csv_data.head())\n",
        "\n",
        "# Αποθήκευση σε αρχείο Parquet\n",
        "unemployment_data.to_parquet(\"cleaned_unemployment_data.parquet\", index=False)\n",
        "\n",
        "# Έλεγχος αποθήκευσης\n",
        "loaded_data = pd.read_parquet(\"cleaned_unemployment_data.parquet\")\n",
        "print(loaded_data.head())\n"
      ]
    }
  ],
  "metadata": {
    "colab": {
      "provenance": [],
      "include_colab_link": true
    },
    "kernelspec": {
      "display_name": "Python 3",
      "name": "python3"
    },
    "language_info": {
      "name": "python"
    }
  },
  "nbformat": 4,
  "nbformat_minor": 0
}