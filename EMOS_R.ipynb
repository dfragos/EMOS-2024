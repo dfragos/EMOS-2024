{
 "cells": [
  {
   "cell_type": "markdown",
   "metadata": {
    "colab_type": "text",
    "id": "view-in-github"
   },
   "source": [
    "<a href=\"https://colab.research.google.com/github/dfragos/EMOS-2024/blob/main/EMOS_R.ipynb\" target=\"_parent\"><img src=\"https://colab.research.google.com/assets/colab-badge.svg\" alt=\"Open In Colab\"/></a>"
   ]
  },
  {
   "cell_type": "markdown",
   "metadata": {},
   "source": [
    "Βήμα 1: Φόρτωση Πακέτων και Δεδομένων από την Eurostat "
   ]
  },
  {
   "cell_type": "code",
   "execution_count": null,
   "metadata": {
    "id": "RSrizbHB9sFv"
   },
   "outputs": [],
   "source": [
    "# Εγκατάσταση και φόρτωση πακέτων\n",
    "if (!require(\"eurostat\")) install.packages(\"eurostat\")\n",
    "if (!require(\"dplyr\")) install.packages(\"dplyr\")\n",
    "if (!require(\"tidyr\")) install.packages(\"tidyr\")\n",
    "if (!require(\"stringr\")) install.packages(\"stringr\")\n",
    "\n",
    "library(eurostat)\n",
    "library(dplyr)\n",
    "library(tidyr)\n",
    "library(stringr)\n",
    "\n",
    "# Λήψη δεδομένων από την Eurostat για την ανεργία\n",
    "unemployment_data <- get_eurostat(\"une_rt_m\", time_format = \"date\")\n",
    "\n",
    "# Επισκόπηση των δεδομένων\n",
    "head(unemployment_data)"
   ]
  },
  {
   "cell_type": "markdown",
   "metadata": {},
   "source": [
    "Βήμα 2: Εντοπισμός και Διαχείριση Ελλειπουσών Τιμών "
   ]
  },
  {
   "cell_type": "code",
   "execution_count": null,
   "metadata": {},
   "outputs": [],
   "source": [
    "# Επισκόπηση ελλειπουσών τιμών\n",
    "summary(unemployment_data)\n",
    "\n",
    "# Αντικατάσταση NA με 0 (εφόσον αυτό είναι λογικό) ή άλλες στρατηγικές\n",
    "unemployment_data <- unemployment_data %>%\n",
    "  mutate(values = ifelse(is.na(values), 0, values))"
   ]
  },
  {
   "cell_type": "markdown",
   "metadata": {},
   "source": [
    "Βήμα 3: Εντοπισμός και Διαχείριση Ακραίων Τιμών "
   ]
  },
  {
   "cell_type": "code",
   "execution_count": null,
   "metadata": {},
   "outputs": [],
   "source": [
    "# Ανάλυση boxplot για ανίχνευση ακραίων τιμών\n",
    "boxplot(unemployment_data$values)\n",
    "\n",
    "# Αντικατάσταση ακραίων τιμών με IQR-based μέθοδο\n",
    "q1 <- quantile(unemployment_data$values, 0.25)\n",
    "q3 <- quantile(unemployment_data$values, 0.75)\n",
    "iqr <- q3 - q1\n",
    "lower_bound <- q1 - 1.5 * iqr\n",
    "upper_bound <- q3 + 1.5 * iqr\n",
    "\n",
    "# Ενημέρωση ακραίων τιμών\n",
    "unemployment_data <- unemployment_data %>%\n",
    "  mutate(values = ifelse(values < lower_bound | values > upper_bound, NA, values))"
   ]
  },
  {
   "cell_type": "markdown",
   "metadata": {},
   "source": [
    "Βήμα 4: Καθαρισμός Κατηγορικών Τιμών "
   ]
  },
  {
   "cell_type": "code",
   "execution_count": null,
   "metadata": {},
   "outputs": [],
   "source": [
    "# Καθαρισμός λανθασμένων κατηγορικών τιμών\n",
    "unemployment_data <- unemployment_data %>%\n",
    "  filter(!is.na(geo)) %>%  # Αφαίρεση τιμών χωρίς γεωγραφική κατηγορία\n",
    "  mutate(geo = str_to_upper(geo))  # Εναρμόνιση με κεφαλαία γράμματα"
   ]
  },
  {
   "cell_type": "markdown",
   "metadata": {},
   "source": [
    "Βήμα 5: Εντοπισμός και Αφαίρεση Διπλών Εγγραφών "
   ]
  },
  {
   "cell_type": "code",
   "execution_count": null,
   "metadata": {},
   "outputs": [],
   "source": [
    "# Αφαίρεση διπλών εγγραφών\n",
    "unemployment_data <- unemployment_data %>%\n",
    "  distinct()"
   ]
  },
  {
   "cell_type": "markdown",
   "metadata": {},
   "source": [
    "Βήμα 6: Συμπλήρωση Δεδομένων"
   ]
  },
  {
   "cell_type": "code",
   "execution_count": null,
   "metadata": {},
   "outputs": [],
   "source": [
    "# Συμπλήρωση τιμών που λείπουν\n",
    "unemployment_data <- unemployment_data %>%\n",
    "  group_by(geo, sex, age) %>%\n",
    "  mutate(values = ifelse(is.na(values), mean(values, na.rm = TRUE), values))"
   ]
  },
  {
   "cell_type": "markdown",
   "metadata": {},
   "source": [
    "Βήμα 7: Καθαρισμός Κειμένου "
   ]
  },
  {
   "cell_type": "code",
   "execution_count": null,
   "metadata": {},
   "outputs": [],
   "source": [
    "# Καθαρισμός τυχόν ανεπιθύμητων χαρακτήρων\n",
    "unemployment_data <- unemployment_data %>%\n",
    "  mutate(geo = str_squish(geo),\n",
    "         sex = str_squish(sex),\n",
    "         age = str_squish(age))"
   ]
  },
  {
   "cell_type": "markdown",
   "metadata": {},
   "source": [
    "Βήμα 8: Αντιμετώπιση Ασυνεπειών "
   ]
  },
  {
   "cell_type": "code",
   "execution_count": null,
   "metadata": {},
   "outputs": [],
   "source": [
    "# Έλεγχος για ασυνεπείς ή μη λογικές τιμές\n",
    "unemployment_data <- unemployment_data %>%\n",
    "  filter(values >= 0)  # Απομάκρυνση αρνητικών τιμών"
   ]
  },
  {
   "cell_type": "markdown",
   "metadata": {},
   "source": [
    "Βήμα 9: Έλεγχος Μορφοποίησης "
   ]
  },
  {
   "cell_type": "code",
   "execution_count": null,
   "metadata": {},
   "outputs": [],
   "source": [
    "# Μετατροπή όλων των πεδίων σε κατάλληλη μορφή\n",
    "unemployment_data <- unemployment_data %>%\n",
    "  mutate(values = as.numeric(values),\n",
    "         time = as.Date(time))"
   ]
  },
  {
   "cell_type": "markdown",
   "metadata": {},
   "source": [
    "Βήμα 10: Χειρισμός Αρνητικών, Μη Λογικών ή Αντιφατικών Τιμών "
   ]
  },
  {
   "cell_type": "code",
   "execution_count": null,
   "metadata": {},
   "outputs": [],
   "source": [
    "# Αφαίρεση μη λογικών τιμών - Ποσοστά ανεργίας πρέπει να είναι μεταξύ 0-100\n",
    "\n",
    "unemployment_data <- unemployment_data %>%\n",
    "  filter(values >= 0 & values <= 100)  "
   ]
  },
  {
   "cell_type": "markdown",
   "metadata": {},
   "source": [
    "Βήμα 11: Αποθήκευση των δεδομένων "
   ]
  },
  {
   "cell_type": "code",
   "execution_count": null,
   "metadata": {},
   "outputs": [],
   "source": [
    "# Αποθήκευση σε αρχείο CSV\n",
    "write.csv(unemployment_data, \"cleaned_unemployment_data.csv\", row.names = FALSE)\n",
    "\n",
    "\n",
    "******* bonus\n",
    "# Εγκατάσταση arrow (αν δεν είναι ήδη εγκατεστημένο)\n",
    "if (!require(\"arrow\")) install.packages(\"arrow\")\n",
    "\n",
    "# Φόρτωση βιβλιοθήκης\n",
    "library(arrow)\n",
    "\n",
    "# Αποθήκευση των καθαρισμένων δεδομένων σε αρχείο Parquet\n",
    "write_parquet(unemployment_data, \"cleaned_unemployment_data.parquet\")"
   ]
  }
 ],
 "metadata": {
  "colab": {
   "authorship_tag": "ABX9TyN5PZRsiTdnmWasUC5nLb+d",
   "include_colab_link": true,
   "provenance": []
  },
  "kernelspec": {
   "display_name": "Python 3",
   "name": "python3"
  },
  "language_info": {
   "name": "python"
  }
 },
 "nbformat": 4,
 "nbformat_minor": 0
}
