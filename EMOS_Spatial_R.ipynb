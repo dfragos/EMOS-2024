{
 "cells": [
  {
   "cell_type": "markdown",
   "metadata": {},
   "source": [
    "<a href=\"https://colab.research.google.com/github/dfragos/EMOS-2024/blob/main/Spacial/Example.ipynb\" target=\"_parent\"><img src=\"https://colab.research.google.com/assets/colab-badge.svg\" alt=\"Open In Colab\"/></a>"
   ]
  },
  {
   "cell_type": "code",
   "execution_count": null,
   "metadata": {},
   "outputs": [],
   "source": [
    "# Install R and IRkernel\n",
    "!apt-get install r-base\n",
    "!R -e \"install.packages('IRkernel', repos='http://cran.us.r-project.org')\"\n",
    "!R -e \"IRkernel::installspec(user = FALSE)\""
   ]
  },
  {
   "cell_type": "markdown",
   "metadata": {},
   "source": [
    "Colab menu: Runtime > Change runtime type.\n",
    "Runtime type: R."
   ]
  },
  {
   "cell_type": "code",
   "execution_count": null,
   "metadata": {},
   "outputs": [],
   "source": [
    "# Install necessary packages if not already installed\n",
    "if (!requireNamespace(\"giscoR\", quietly = TRUE)) install.packages(\"giscoR\")\n",
    "if (!requireNamespace(\"eurostat\", quietly = TRUE)) install.packages(\"eurostat\")\n",
    "if (!requireNamespace(\"sf\", quietly = TRUE)) install.packages(\"sf\")\n",
    "if (!requireNamespace(\"ggplot2\", quietly = TRUE)) install.packages(\"ggplot2\")\n",
    "if (!requireNamespace(\"dplyr\", quietly = TRUE)) install.packages(\"dplyr\")\n",
    "\n",
    "# Load libraries\n",
    "library(giscoR)\n",
    "library(eurostat)\n",
    "library(sf)\n",
    "library(ggplot2)\n",
    "library(dplyr)"
   ]
  },
  {
   "cell_type": "code",
   "execution_count": null,
   "metadata": {},
   "outputs": [],
   "source": [
    "# Search for unemployment data in Eurostat\n",
    "datasets <- search_eurostat(\"unemployment\")\n",
    "print(datasets)\n",
    "\n",
    "# Get the dataset ID for monthly unemployment rates\n",
    "dataset_id <- \"une_rt_m\"\n",
    "\n",
    "# Load unemployment data\n",
    "unemployment_data <- get_eurostat(id = dataset_id, time_format = \"date\")"
   ]
  },
  {
   "cell_type": "code",
   "execution_count": null,
   "metadata": {},
   "outputs": [],
   "source": [
    "# Filter data for the latest available month and only total population\n",
    "latest_date <- max(unemployment_data$TIME_PERIOD)\n",
    "\n",
    "filtered_data <- unemployment_data %>%\n",
    "  filter(TIME_PERIOD == latest_date & sex == \"T\" & age == \"TOTAL\" & unit == \"PC_ACT\" ) %>%\n",
    "  select(geo, values)\n",
    "\n",
    "# Get spatial data for European countries using giscoR\n",
    "europe_map <- gisco_get_countries(resolution = \"10\", year = 2020)\n",
    "\n",
    "# Filter the map to keep only European countries\n",
    "europe_map <- europe_map %>%\n",
    "  filter(EU_STAT == \"T\")"
   ]
  },
  {
   "cell_type": "code",
   "execution_count": null,
   "metadata": {},
   "outputs": [],
   "source": [
    "# Define a mapping from ISO2 to ISO3\n",
    "iso2_to_iso3 <- c(\n",
    "  \"AT\" = \"AUT\", \"BE\" = \"BEL\", \"BG\" = \"BGR\", \"CY\" = \"CYP\", \"CZ\" = \"CZE\",\n",
    "  \"DE\" = \"DEU\", \"DK\" = \"DNK\", \"EE\" = \"EST\", \"EL\" = \"GRC\", \"ES\" = \"ESP\",\n",
    "  \"FI\" = \"FIN\", \"FR\" = \"FRA\", \"HR\" = \"HRV\", \"HU\" = \"HUN\", \"IE\" = \"IRL\",\n",
    "  \"IT\" = \"ITA\", \"LT\" = \"LTU\", \"LU\" = \"LUX\", \"LV\" = \"LVA\", \"MT\" = \"MLT\",\n",
    "  \"NL\" = \"NLD\", \"PL\" = \"POL\", \"PT\" = \"PRT\", \"RO\" = \"ROU\", \"SE\" = \"SWE\",\n",
    "  \"SI\" = \"SVN\", \"SK\" = \"SVK\"\n",
    ")\n",
    "\n",
    "# Filter out non-country codes from the unemployment data\n",
    "filtered_data <- filtered_data %>%\n",
    "  filter(geo %in% names(iso2_to_iso3))\n",
    "\n",
    "# Add the corresponding ISO3 codes to the unemployment data\n",
    "filtered_data <- filtered_data %>%\n",
    "  mutate(ISO3_CODE = iso2_to_iso3[geo])\n",
    "\n",
    "# Join the spatial data with unemployment data using ISO3 codes\n",
    "europe_unemployment <- europe_map %>%\n",
    "  left_join(filtered_data, by = \"ISO3_CODE\")"
   ]
  },
  {
   "cell_type": "code",
   "execution_count": null,
   "metadata": {},
   "outputs": [],
   "source": [
    "# Use eurostat\n",
    "library(eurostat)\n",
    "popdens <- get_eurostat(\"demo_r_d3dens\") %>%\n",
    "  filter(TIME_PERIOD == \"2021-01-01\")"
   ]
  },
  {
   "cell_type": "code",
   "execution_count": null,
   "metadata": {},
   "outputs": [],
   "source": [
    "# Check for missing data\n",
    "missing_data <- europe_unemployment %>%\n",
    "  filter(is.na(values))\n",
    "\n",
    "if (nrow(missing_data) > 0) {\n",
    "  print(\"Some countries are missing unemployment rates:\")\n",
    "  print(missing_data)\n",
    "}"
   ]
  },
  {
   "cell_type": "code",
   "execution_count": null,
   "metadata": {},
   "outputs": [],
   "source": [
    "# Create the choropleth map\n",
    "ggplot(europe_unemployment) +\n",
    "  geom_sf(aes(fill = values), color = \"black\", size = 0.1) +\n",
    "  scale_fill_viridis_c(option = \"plasma\", name = \"Unemployment Rate (%)\") +\n",
    "  labs(\n",
    "    title = \"Unemployment Rates in Europe\",\n",
    "    subtitle = paste(\"Latest data as of\", format(latest_date, \"%B %Y\")),\n",
    "    caption = \"Source: Eurostat and GISCO\"\n",
    "  ) +\n",
    "  theme_minimal() +\n",
    "  theme(\n",
    "    plot.title = element_text(size = 16, face = \"bold\"),\n",
    "    plot.subtitle = element_text(size = 12),\n",
    "    legend.position = \"right\"\n",
    "  )\n"
   ]
  }
 ],
 "metadata": {
  "language_info": {
   "name": "python"
  }
 },
 "nbformat": 4,
 "nbformat_minor": 2
}
