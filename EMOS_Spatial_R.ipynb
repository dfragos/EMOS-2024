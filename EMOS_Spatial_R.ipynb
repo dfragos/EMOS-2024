{
 "cells": [
  {
   "cell_type": "markdown",
   "metadata": {},
   "source": [
    "<a href=\"https://colab.research.google.com/github/dfragos/EMOS-2024/blob/main/Spacial/Example.ipynb\" target=\"_parent\"><img src=\"https://colab.research.google.com/assets/colab-badge.svg\" alt=\"Open In Colab\"/></a>"
   ]
  },
  {
   "cell_type": "code",
   "execution_count": null,
   "metadata": {},
   "outputs": [],
   "source": [
    "# Install R and IRkernel\n",
    "!apt-get install r-base\n",
    "!R -e \"install.packages('IRkernel', repos='http://cran.us.r-project.org')\"\n",
    "!R -e \"IRkernel::installspec(user = FALSE)\""
   ]
  },
  {
   "cell_type": "markdown",
   "metadata": {},
   "source": [
    "Colab menu: Runtime > Change runtime type.\n",
    "Runtime type: R."
   ]
  },
  {
   "cell_type": "code",
   "execution_count": null,
   "metadata": {},
   "outputs": [],
   "source": [
    "rm(list=ls())\n",
    "\n",
    "# load the libraries with all dependencies\n",
    "if(!require('giscoR')) install.packages('giscoR', dependencies=T); library('giscoR')"
   ]
  },
  {
   "cell_type": "code",
   "execution_count": null,
   "metadata": {},
   "outputs": [],
   "source": [
    "library(giscoR)\n",
    "library(sf)\n",
    "library(dplyr)\n",
    "\n",
    "# Different resolutions\n",
    "GRC_res60 <- gisco_get_countries(resolution = \"60\", country = \"GRC\") %>%\n",
    "  mutate(res = \"60M\")\n",
    "GRC_res20 <-\n",
    "  gisco_get_countries(resolution = \"20\", country = \"GRC\") %>%\n",
    "  mutate(res = \"20M\")\n",
    "GRC_res10 <-\n",
    "  gisco_get_countries(resolution = \"10\", country = \"GRC\") %>%\n",
    "  mutate(res = \"10M\")\n",
    "GRC_res03 <-\n",
    "  gisco_get_countries(resolution = \"03\", country = \"GRC\") %>%\n",
    "  mutate(res = \"03M\")\n",
    "\n",
    "\n",
    "GRC_all <- bind_rows(GRC_res60, GRC_res20, GRC_res10, GRC_res03)\n",
    "\n",
    "# Plot ggplot2\n",
    "\n",
    "library(ggplot2)\n",
    "\n",
    "ggplot(GRC_all) +\n",
    "  geom_sf(fill = \"tomato\") +\n",
    "  facet_wrap(vars(res)) +\n",
    "  theme_minimal()"
   ]
  },
  {
   "cell_type": "code",
   "execution_count": null,
   "metadata": {},
   "outputs": [],
   "source": [
    "\n",
    "\n",
    "# Labels and Lines available\n",
    "\n",
    "labs <- gisco_get_countries(\n",
    "  spatialtype = \"LB\",\n",
    "  region = \"Africa\",\n",
    "  epsg = \"3857\"\n",
    ")\n",
    "\n",
    "coast <- gisco_get_countries(\n",
    "  spatialtype = \"COASTL\",\n",
    "  epsg = \"3857\"\n",
    ")\n",
    "\n",
    "# For zooming\n",
    "afr_bbox <- st_bbox(labs)\n",
    "\n",
    "ggplot(coast) +\n",
    "  geom_sf(col = \"deepskyblue4\", linewidth = 3) +\n",
    "  geom_sf(data = labs, fill = \"springgreen4\", col = \"darkgoldenrod1\", size = 5, shape = 21) +\n",
    "  coord_sf(\n",
    "    xlim = afr_bbox[c(\"xmin\", \"xmax\")],\n",
    "    ylim = afr_bbox[c(\"ymin\", \"ymax\")]\n",
    "  )"
   ]
  },
  {
   "cell_type": "code",
   "execution_count": null,
   "metadata": {},
   "outputs": [],
   "source": [
    "# Get shapes\n",
    "nuts3 <- gisco_get_nuts(\n",
    "  year = \"2021\",\n",
    "  epsg = \"3035\",\n",
    "  resolution = \"10\",\n",
    "  nuts_level = \"3\"\n",
    ")\n",
    "\n",
    "# Group by NUTS by country and convert to lines\n",
    "country_lines <- nuts3 %>%\n",
    "  group_by(\n",
    "    CNTR_CODE\n",
    "  ) %>%\n",
    "  summarise(n = n()) %>%\n",
    "  st_cast(\"MULTILINESTRING\")"
   ]
  }
 ],
 "metadata": {
  "language_info": {
   "name": "python"
  }
 },
 "nbformat": 4,
 "nbformat_minor": 2
}
