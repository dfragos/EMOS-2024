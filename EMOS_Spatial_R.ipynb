{
 "cells": [
  {
   "cell_type": "markdown",
   "metadata": {},
   "source": [
    "<a href=\"https://colab.research.google.com/github/dfragos/EMOS-2024/blob/main/Spacial/Example.ipynb\" target=\"_parent\"><img src=\"https://colab.research.google.com/assets/colab-badge.svg\" alt=\"Open In Colab\"/></a>"
   ]
  },
  {
   "cell_type": "code",
   "execution_count": null,
   "metadata": {},
   "outputs": [],
   "source": [
    "# Install R and IRkernel\n",
    "!apt-get install r-base\n",
    "!R -e \"install.packages('IRkernel', repos='http://cran.us.r-project.org')\"\n",
    "!R -e \"IRkernel::installspec(user = FALSE)\""
   ]
  },
  {
   "cell_type": "markdown",
   "metadata": {},
   "source": [
    "Colab menu: Runtime > Change runtime type.\n",
    "Runtime type: R."
   ]
  },
  {
   "cell_type": "code",
   "execution_count": null,
   "metadata": {},
   "outputs": [],
   "source": [
    "# Install necessary packages if not already installed\n",
    "if (!requireNamespace(\"giscoR\", quietly = TRUE)) install.packages(\"giscoR\")\n",
    "if (!requireNamespace(\"eurostat\", quietly = TRUE)) install.packages(\"eurostat\")\n",
    "if (!requireNamespace(\"sf\", quietly = TRUE)) install.packages(\"sf\")\n",
    "if (!requireNamespace(\"ggplot2\", quietly = TRUE)) install.packages(\"ggplot2\")\n",
    "if (!requireNamespace(\"dplyr\", quietly = TRUE)) install.packages(\"dplyr\")\n",
    "\n",
    "# Load libraries\n",
    "library(giscoR)\n",
    "library(eurostat)\n",
    "library(sf)\n",
    "library(ggplot2)\n",
    "library(dplyr)"
   ]
  },
  {
   "cell_type": "code",
   "execution_count": null,
   "metadata": {},
   "outputs": [],
   "source": [
    "# Search for unemployment data in Eurostat\n",
    "datasets <- search_eurostat(\"unemployment\")\n",
    "print(datasets)\n",
    "\n",
    "# Get the dataset ID for monthly unemployment rates\n",
    "dataset_id <- \"une_rt_m\"\n",
    "\n",
    "# Load unemployment data\n",
    "unemployment_data <- get_eurostat(id = dataset_id, time_format = \"date\")\n",
    "\n",
    "# Filter data for the latest available month and only total population\n",
    "latest_date <- max(unemployment_data$time)\n",
    "filtered_data <- unemployment_data %>%\n",
    "  filter(time == latest_date & sex == \"T\" & age == \"TOTAL\") %>%\n",
    "  select(geo, values)"
   ]
  },
  {
   "cell_type": "code",
   "execution_count": null,
   "metadata": {},
   "outputs": [],
   "source": [
    "# Get spatial data for European countries using giscoR\n",
    "europe_map <- gisco_get_countries(resolution = \"10\", year = 2020)\n",
    "\n",
    "# Join the spatial data with unemployment data\n",
    "europe_unemployment <- europe_map %>%\n",
    "  left_join(filtered_data, by = c(\"ISO3_CODE\" = \"geo\"))"
   ]
  },
  {
   "cell_type": "code",
   "execution_count": null,
   "metadata": {},
   "outputs": [],
   "source": [
    "# Create a choropleth map\n",
    "ggplot(europe_unemployment) +\n",
    "  geom_sf(aes(fill = values), color = \"black\", size = 0.1) +\n",
    "  scale_fill_viridis_c(option = \"plasma\", name = \"Unemployment Rate (%)\") +\n",
    "  labs(\n",
    "    title = \"Unemployment Rates in Europe\",\n",
    "    subtitle = paste(\"Latest data as of\", format(latest_date, \"%B %Y\")),\n",
    "    caption = \"Source: Eurostat and GISCO\"\n",
    "  ) +\n",
    "  theme_minimal() +\n",
    "  theme(\n",
    "    plot.title = element_text(size = 16, face = \"bold\"),\n",
    "    plot.subtitle = element_text(size = 12),\n",
    "    legend.position = \"right\"\n",
    "  )"
   ]
  },
  {
   "cell_type": "code",
   "execution_count": null,
   "metadata": {},
   "outputs": [],
   "source": [
    "# Use eurostat\n",
    "library(eurostat)\n",
    "popdens <- get_eurostat(\"demo_r_d3dens\") %>%\n",
    "  filter(TIME_PERIOD == \"2021-01-01\")"
   ]
  },
  {
   "cell_type": "code",
   "execution_count": null,
   "metadata": {},
   "outputs": [],
   "source": [
    "# Merge data\n",
    "nuts3_sf <- nuts3 %>%\n",
    "  left_join(popdens, by = \"geo\")\n",
    "\n",
    "nuts3_sf <- nuts3 %>%\n",
    "  left_join(popdens, by = c(\"NUTS_ID\" = \"geo\"))\n",
    "\n",
    "\n",
    "# Breaks and labels\n",
    "\n",
    "br <- c(0, 25, 50, 100, 200, 500, 1000, 2500, 5000, 10000, 30000)\n",
    "labs <- prettyNum(br[-1], big.mark = \",\")\n",
    "\n",
    "# Label function to be used in the plot, mainly for NAs\n",
    "labeller_plot <- function(x) {\n",
    "  ifelse(is.na(x), \"No Data\", x)\n",
    "}\n",
    "nuts3_sf <- nuts3_sf %>%\n",
    "  # Cut with labels\n",
    "  mutate(values_cut = cut(values, br, labels = labs))\n",
    "\n",
    "\n",
    "# Palette\n",
    "pal <- hcl.colors(length(labs), \"Lajolla\")\n",
    "\n",
    "\n",
    "# Plot\n",
    "ggplot(nuts3_sf) +\n",
    "  geom_sf(aes(fill = values_cut), linewidth = 0, color = NA, alpha = 0.9) +\n",
    "  geom_sf(data = country_lines, col = \"black\", linewidth = 0.1) +\n",
    "  # Center in Europe: EPSG 3035\n",
    "  coord_sf(\n",
    "    xlim = c(2377294, 7453440),\n",
    "    ylim = c(1313597, 5628510)\n",
    "  ) +\n",
    "  # Legends\n",
    "  scale_fill_manual(\n",
    "    values = pal,\n",
    "    # Label for NA\n",
    "    labels = labeller_plot,\n",
    "    drop = FALSE, guide = guide_legend(direction = \"horizontal\", nrow = 1)\n",
    "  ) +\n",
    "  # Theming\n",
    "  theme_void() +\n",
    "  # Theme\n",
    "  theme(\n",
    "    plot.title = element_text(\n",
    "      color = rev(pal)[2], size = rel(1.5),\n",
    "      hjust = 0.5, vjust = -6\n",
    "    ),\n",
    "    plot.subtitle = element_text(\n",
    "      color = rev(pal)[2], size = rel(1.25),\n",
    "      hjust = 0.5, vjust = -10, face = \"bold\"\n",
    "    ),\n",
    "    plot.caption = element_text(color = \"grey60\", hjust = 0.5, vjust = 0),\n",
    "    legend.text = element_text(color = \"grey20\", hjust = .5),\n",
    "    legend.title = element_text(color = \"grey20\", hjust = .5),\n",
    "    legend.position = \"bottom\",\n",
    "    legend.title.position = \"top\",\n",
    "    legend.text.position = \"bottom\",\n",
    "    legend.key.height = unit(.5, \"line\"),\n",
    "    legend.key.width = unit(2.5, \"line\")\n",
    "  ) +\n",
    "  # Annotate and labs\n",
    "  labs(\n",
    "    title = \"Population density in 2021\",\n",
    "    subtitle = \"NUTS-3 level\",\n",
    "    fill = \"people per sq. kilometer\",\n",
    "    caption = paste0(\n",
    "      \"Source: Eurostat, \", gisco_attributions(),\n",
    "      \"\\nBased on Milos Popovic: \",\n",
    "      \"https://milospopovic.net/how-to-make-choropleth-map-in-r/\"\n",
    "    )\n",
    "  )"
   ]
  }
 ],
 "metadata": {
  "language_info": {
   "name": "python"
  }
 },
 "nbformat": 4,
 "nbformat_minor": 2
}
